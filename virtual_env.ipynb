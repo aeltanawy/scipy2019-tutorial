{
 "cells": [
  {
   "cell_type": "markdown",
   "metadata": {},
   "source": [
    "# Welcome to the Virtual Environment tutorial! "
   ]
  },
  {
   "cell_type": "markdown",
   "metadata": {},
   "source": [
    "## Jupyter Notebook in a nutshell\n",
    "\n",
    "> The Jupyter Notebook is a web application that allows you to create and share documents that contain live code, equations, visualizations and explanatory text.\n",
    "\n",
    "- Two Modes: Edit and Command\n",
    "- Command -> Edit: `Enter`\n",
    "- Edit -> Command: `Esc`\n",
    "- Execute a Cell: `Shift+Enter`\n",
    "- Down: `j/Down Arrow`\n",
    "- Up: `k/Up Arrow`\n",
    "\n",
    "For more, check this cheatsheet: https://www.cheatography.com/weidadeyue/cheat-sheets/jupyter-notebook/pdf_bw/"
   ]
  },
  {
   "cell_type": "markdown",
   "metadata": {},
   "source": [
    "# Tutorial"
   ]
  },
  {
   "cell_type": "markdown",
   "metadata": {},
   "source": [
    "### Checking you have conda installed"
   ]
  },
  {
   "cell_type": "markdown",
   "metadata": {},
   "source": [
    "*--> copy the following commands in your terminal*"
   ]
  },
  {
   "cell_type": "raw",
   "metadata": {},
   "source": [
    "conda -V"
   ]
  },
  {
   "cell_type": "markdown",
   "metadata": {},
   "source": [
    "You should get an output with your conda version. For exmaple:"
   ]
  },
  {
   "cell_type": "raw",
   "metadata": {},
   "source": [
    "conda 4.5.11"
   ]
  },
  {
   "cell_type": "markdown",
   "metadata": {},
   "source": [
    "If not, then you need to install conda through one of the following:\n",
    "1. [miniconda](https://conda.io/miniconda.html) (just conda & python)\n",
    "2. [anaconda](https://www.anaconda.com/download/#macos) (a dash more)"
   ]
  },
  {
   "cell_type": "markdown",
   "metadata": {},
   "source": [
    "### Creating a virtual environment for you project"
   ]
  },
  {
   "cell_type": "markdown",
   "metadata": {},
   "source": [
    "The general command to use is *`conda create -n <env name>`* and changing <env name> with whatever name you want to give to your environment.\n",
    "    \n",
    "Other tricks is to add *`python=x.x`* to your command by replacing x.x with the Python version you wish to use in your environment.\n",
    "\n",
    "The new environment will be added to `~/anaconda3/envs` directory.\n",
    "\n",
    "For example:"
   ]
  },
  {
   "cell_type": "raw",
   "metadata": {},
   "source": [
    "conda create -n rbt-tools python=2.7"
   ]
  },
  {
   "cell_type": "markdown",
   "metadata": {},
   "source": [
    "The above command will create a virtual environment named `rbt-tools` that uses Python 2.7"
   ]
  },
  {
   "cell_type": "markdown",
   "metadata": {},
   "source": [
    "### Activate your virtual environment"
   ]
  },
  {
   "cell_type": "raw",
   "metadata": {},
   "source": [
    "source activate rbt-tools"
   ]
  },
  {
   "cell_type": "markdown",
   "metadata": {},
   "source": [
    "### To see a list of all your environments"
   ]
  },
  {
   "cell_type": "raw",
   "metadata": {},
   "source": [
    "conda info -e"
   ]
  },
  {
   "cell_type": "markdown",
   "metadata": {},
   "source": [
    "Or"
   ]
  },
  {
   "cell_type": "raw",
   "metadata": {},
   "source": [
    "conda env list"
   ]
  },
  {
   "cell_type": "markdown",
   "metadata": {},
   "source": [
    "### To install additional libraries/packages to a virtual environment"
   ]
  },
  {
   "cell_type": "markdown",
   "metadata": {},
   "source": [
    "For example to install `scipy` to an environment called `data-sci`:"
   ]
  },
  {
   "cell_type": "raw",
   "metadata": {},
   "source": [
    "conda install -n data-sci scipy"
   ]
  },
  {
   "cell_type": "markdown",
   "metadata": {},
   "source": [
    "If you simply use *`conda install scipy`* then you will be installing the package to the current environment you are in (could be your root environment)."
   ]
  },
  {
   "cell_type": "markdown",
   "metadata": {},
   "source": [
    "You can install a specific version: *`conda install scipy=0.15.0 -n data-sci`*\n",
    "\n",
    "And you can install multiple packages: *`conda install scipy curl -n data-sci`*"
   ]
  },
  {
   "cell_type": "markdown",
   "metadata": {},
   "source": [
    "### To list all the packages in a deactivated environment:"
   ]
  },
  {
   "cell_type": "raw",
   "metadata": {},
   "source": [
    "conda list -n <env name>"
   ]
  },
  {
   "cell_type": "markdown",
   "metadata": {},
   "source": [
    "### Deactivate your virtual environment"
   ]
  },
  {
   "cell_type": "raw",
   "metadata": {},
   "source": [
    "source deactivate"
   ]
  },
  {
   "cell_type": "markdown",
   "metadata": {},
   "source": [
    "### Delete a no longer needed virtual environment"
   ]
  },
  {
   "cell_type": "markdown",
   "metadata": {},
   "source": [
    "You need to be out of that environment you want to remove."
   ]
  },
  {
   "cell_type": "raw",
   "metadata": {},
   "source": [
    "conda remove -n <env name> --all"
   ]
  },
  {
   "cell_type": "markdown",
   "metadata": {},
   "source": [
    "## Exercise"
   ]
  },
  {
   "cell_type": "markdown",
   "metadata": {},
   "source": [
    "Create a virtual environment named \"scipy-ppt\" and activating that environment."
   ]
  },
  {
   "cell_type": "markdown",
   "metadata": {},
   "source": [
    "## Installing all dependacies of a project"
   ]
  },
  {
   "cell_type": "markdown",
   "metadata": {},
   "source": [
    "Usually all dependacies of a project, along with the required versions, are listed in a text file called `requirements.txt`. After activating your virtual environment for that specific project, install using pip:"
   ]
  },
  {
   "cell_type": "raw",
   "metadata": {},
   "source": [
    "pip install -r requirements.txt"
   ]
  },
  {
   "cell_type": "markdown",
   "metadata": {},
   "source": [
    ">This is what a `requirements.txt` file look like:\n",
    "\n",
    "><img src=\"req_file.png\" alt=\"drawing\" width=\"250\" align=\"left\"/>"
   ]
  }
 ],
 "metadata": {
  "kernelspec": {
   "display_name": "Python [default]",
   "language": "python",
   "name": "python3"
  },
  "language_info": {
   "codemirror_mode": {
    "name": "ipython",
    "version": 3
   },
   "file_extension": ".py",
   "mimetype": "text/x-python",
   "name": "python",
   "nbconvert_exporter": "python",
   "pygments_lexer": "ipython3",
   "version": "3.6.6"
  },
  "toc": {
   "base_numbering": 1,
   "nav_menu": {},
   "number_sections": true,
   "sideBar": true,
   "skip_h1_title": false,
   "title_cell": "Table of Contents",
   "title_sidebar": "Contents",
   "toc_cell": false,
   "toc_position": {},
   "toc_section_display": true,
   "toc_window_display": false
  }
 },
 "nbformat": 4,
 "nbformat_minor": 2
}
